{
 "cells": [
  {
   "cell_type": "markdown",
   "metadata": {},
   "source": [
    "## Societyデータを大阪府の地図にマッピング2\n",
    "Societyで以前マッピングに利用したデータを使ってマッピングできたので、他の項目も追加したcsvを可視化してみることにした。</br>\n",
    "https://soan.jp/plotly"
   ]
  },
  {
   "cell_type": "code",
   "execution_count": 88,
   "metadata": {
    "id": "IO8UUX6GfXmO",
    "tags": []
   },
   "outputs": [],
   "source": [
    "import json\n",
    "import re\n",
    "import pandas as pd\n",
    "import plotly.express as px\n",
    "import geocoder as geocoder\n",
    "\n",
    "# 定数\n",
    "PREFECTURE = \"大阪府\"\n",
    "CSV_FILE = \"./data/estat_eqfreq_areacode.csv.csv\"\n",
    "GEOJSON_FILE = \"./data/N03-20_27_200101.geojson\"\n",
    "MAPBOX_STYLE = \"carto-positron\"\n",
    "COLOR_RANGE = (1, 10)\n",
    "COLOR_SET = \"A_１５歳未満人口割合\"\n",
    "ZOOM_LEVEL = 8\n",
    "OPACITY = 1\n",
    "FIG_SIZE = 800\n",
    "\n",
    "#color_mapping = {\n",
    "#    \"1\": \"red\",    \n",
    "#    \"2\": \"green\",  \n",
    "#    \"3\": \"blue\",\n",
    "#    \"4\": \"yellow\"\n",
    "#}"
   ]
  },
  {
   "cell_type": "code",
   "execution_count": 89,
   "metadata": {
    "tags": []
   },
   "outputs": [],
   "source": [
    "def load_data(CSV_FILE, geojson_file):\n",
    "    \"\"\"CSVファイルとGeoJSONファイルからデータフレームとGeoJSONを作成する\"\"\"\n",
    "    # XLSファイルから人口データフレーム作成\n",
    "    df = pd.read_csv(CSV_FILE, header=0)\n",
    "    #大阪府のみ抽出\n",
    "    #df = df[df['area'].str.startswith('27')]\n",
    "    # クラスを数値型に変換する\n",
    "    #df[['clus']] = df[['clus']].replace(',', '', regex=True).astype('float')\n",
    "\n",
    "    # GeoJSONファイルから地図データ読み込み\n",
    "    with open(geojson_file) as f:\n",
    "        geojson = json.load(f)\n",
    "        # GeoJSONデータから不要な列を削除する\n",
    "        for feature in geojson['features']:\n",
    "            feature['properties'].pop('N03_001')\n",
    "            feature['properties'].pop('N03_002')\n",
    "            feature['properties'].pop('N03_003')\n",
    "            feature['properties'].pop('N03_004')\n",
    "\n",
    "    return df, geojson\n",
    "\n",
    "def plot_map(df, geojson, prefecture):\n",
    "    \"\"\"データフレームとGeoJSONから地図をプロットする\"\"\"\n",
    "    # 都道府県の中心座標を取得\n",
    "    center_latlng = geocoder.arcgis(prefecture).latlng\n",
    "\n",
    "    # コロプレスマップを描画\n",
    "    fig = px.choropleth_mapbox(\n",
    "        df,\n",
    "        geojson=geojson,\n",
    "        locations=\"area\",\n",
    "        color=COLOR_SET,\n",
    "#        color_discrete_map=color_mapping,  # 色を固定値で指定\n",
    "#        hover_name=\"育児困難感_自責感\",\n",
    "#       hover_data=['人口','クラスター', '育児困難感_自責感'],\n",
    "        featureidkey=\"properties.N03_007\",\n",
    "        mapbox_style=MAPBOX_STYLE,\n",
    "        range_color=COLOR_RANGE,\n",
    "        zoom=ZOOM_LEVEL,\n",
    "        center={\"lat\": center_latlng[0]-0.5, \"lon\": center_latlng[1]},\n",
    "        opacity=OPACITY,\n",
    "        width=FIG_SIZE,\n",
    "        height=FIG_SIZE,\n",
    "    )\n",
    "    fig.update_layout(margin=dict(b=0, t=0, l=0, r=0))\n",
    "    fig.show()"
   ]
  },
  {
   "cell_type": "code",
   "execution_count": null,
   "metadata": {
    "tags": []
   },
   "outputs": [],
   "source": [
    "# メイン処理\n",
    "if __name__ == \"__main__\":\n",
    "    df_osaka, geojson_osaka = load_data(CSV_FILE, GEOJSON_FILE)\n",
    "    plot_map(df_osaka, geojson_osaka, PREFECTURE)"
   ]
  },
  {
   "cell_type": "markdown",
   "metadata": {},
   "source": [
    "# 以下,色指定を固定値にする"
   ]
  },
  {
   "cell_type": "code",
   "execution_count": 5,
   "metadata": {},
   "outputs": [],
   "source": [
    "import json\n",
    "import re\n",
    "import pandas as pd\n",
    "import plotly.express as px\n",
    "import geocoder as geocoder\n",
    "\n",
    "# 定数\n",
    "PREFECTURE = \"大阪府\"\n",
    "CSV_FILE = \"./data/estat_eqfreq_areacode.csv\"\n",
    "GEOJSON_FILE = \"./data/N03-20_27_200101.geojson\"\n",
    "MAPBOX_STYLE = \"carto-positron\"\n",
    "#COLOR_RANGE = (1, 4)\n",
    "ZOOM_LEVEL = 8\n",
    "OPACITY = 1\n",
    "FIG_SIZE = 800\n",
    "\n",
    "color_mapping = {\n",
    "    \"1\": \"red\",    \n",
    "    \"2\": \"green\",  \n",
    "    \"3\": \"blue\",\n",
    "    \"4\": \"yellow\",\n",
    "    \"5\": \"pink\",    \n",
    "    \"6\": \"purple\",  \n",
    "    \"7\": \"navy\",\n",
    "    \"8\": \"cyan\",\n",
    "    \"9\": \"darkgreen\",\n",
    "    \"10\": \"greenyellow\"\n",
    "}"
   ]
  },
  {
   "cell_type": "code",
   "execution_count": 17,
   "metadata": {},
   "outputs": [],
   "source": [
    "def load_data(CSV_FILE, geojson_file):\n",
    "    \"\"\"CSVファイルとGeoJSONファイルからデータフレームとGeoJSONを作成する\"\"\"\n",
    "    #データフレーム作成\n",
    "    df = pd.read_csv(CSV_FILE, header=0,dtype= str)#dtypeをstrにしないと、color_mappingが反映されない！\n",
    "\n",
    "    # GeoJSONファイルから地図データ読み込み\n",
    "    with open(geojson_file) as f:\n",
    "        geojson = json.load(f)\n",
    "        # GeoJSONデータから不要な列を削除する\n",
    "        for feature in geojson['features']:\n",
    "            feature['properties'].pop('N03_001')\n",
    "            feature['properties'].pop('N03_002')\n",
    "            feature['properties'].pop('N03_003')\n",
    "            feature['properties'].pop('N03_004')\n",
    "\n",
    "    return df, geojson\n",
    "\n",
    "def plot_map(df, geojson, prefecture):\n",
    "    \"\"\"データフレームとGeoJSONから地図をプロットする\"\"\"\n",
    "    # 都道府県の中心座標を取得\n",
    "    center_latlng = geocoder.arcgis(prefecture).latlng\n",
    "\n",
    "    # コロプレスマップを描画\n",
    "    fig = px.choropleth_mapbox(\n",
    "        df,\n",
    "        geojson=geojson,\n",
    "        locations=\"area\",\n",
    "        color=\"A_１５歳未満人口割合\",\n",
    "        color_discrete_map=color_mapping,  # 色を固定値で指定\n",
    "     #   hover_name=\"clus\",\n",
    "     #   hover_data=[\"clus\", \"area\"],\n",
    "        featureidkey=\"properties.N03_007\",\n",
    "        mapbox_style=MAPBOX_STYLE,\n",
    "     #   range_color=COLOR_RANGE,\n",
    "        zoom=ZOOM_LEVEL,\n",
    "        center={\"lat\": center_latlng[0]-0.5, \"lon\": center_latlng[1]},\n",
    "        opacity=OPACITY,\n",
    "        width=FIG_SIZE,\n",
    "        height=FIG_SIZE,\n",
    "    )\n",
    "    fig.update_layout(margin=dict(b=0, t=0, l=0, r=0))\n",
    "    fig.show()"
   ]
  },
  {
   "cell_type": "code",
   "execution_count": null,
   "metadata": {},
   "outputs": [],
   "source": [
    "# メイン処理\n",
    "if __name__ == \"__main__\":\n",
    "    df_osaka, geojson_osaka = load_data(CSV_FILE, GEOJSON_FILE)\n",
    "    plot_map(df_osaka, geojson_osaka, PREFECTURE)"
   ]
  },
  {
   "cell_type": "code",
   "execution_count": null,
   "metadata": {},
   "outputs": [],
   "source": []
  }
 ],
 "metadata": {
  "colab": {
   "provenance": []
  },
  "kernelspec": {
   "display_name": "Python 3 (ipykernel)",
   "language": "python",
   "name": "python3"
  },
  "language_info": {
   "codemirror_mode": {
    "name": "ipython",
    "version": 3
   },
   "file_extension": ".py",
   "mimetype": "text/x-python",
   "name": "python",
   "nbconvert_exporter": "python",
   "pygments_lexer": "ipython3",
   "version": "3.10.6"
  }
 },
 "nbformat": 4,
 "nbformat_minor": 4
}
